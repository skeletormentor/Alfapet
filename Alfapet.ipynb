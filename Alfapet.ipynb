{
 "cells": [
  {
   "cell_type": "code",
   "execution_count": 26,
   "metadata": {},
   "outputs": [],
   "source": [
    "import alfapet\n",
    "import ipywidgets as widgets"
   ]
  },
  {
   "cell_type": "code",
   "execution_count": 27,
   "metadata": {},
   "outputs": [],
   "source": [
    "def huijaus(kirjaimet):\n",
    "    kirjaimet = list(kirjaimet)\n",
    "    sallitutSanat = []\n",
    "\n",
    "    for sana in alfapet.sanat:\n",
    "        kirjaimetKopio = kirjaimet[:]\n",
    "        valid = True\n",
    "        for kirjain in sana:\n",
    "            if kirjain not in kirjaimetKopio:\n",
    "                valid = False\n",
    "                break\n",
    "            kirjaimetKopio.remove(kirjain)\n",
    "        if valid:\n",
    "            pisteet = 0\n",
    "            for kirjain in sana:\n",
    "                pisteet += alfapet.kirjainpisteet[kirjain]\n",
    "            sallitutSanat.append((pisteet, sana))\n",
    "    if not sallitutSanat:\n",
    "        return print('Kirjaimilla ei saa yhtään sanaa.')\n",
    "    else:\n",
    "        for i in sorted(sallitutSanat):\n",
    "            print(\"%d %s\" % (i[0], i[1]))"
   ]
  },
  {
   "cell_type": "code",
   "execution_count": 28,
   "metadata": {},
   "outputs": [],
   "source": [
    "def tarkista(sana):\n",
    "        try:\n",
    "            sana = sana.lower()\n",
    "            pisteet = 0\n",
    "            for kirjain in sana:\n",
    "                pisteet += alfapet.kirjainpisteet[kirjain]\n",
    "            if sana in alfapet.sanat.values:\n",
    "                return print(\"Pisteet:\",pisteet)\n",
    "            else:\n",
    "                print(\"Sana ei ole Kotuksen nykysuomen sanaluettelossa.\")\n",
    "                print(\"Pisteet:\",pisteet)\n",
    "        except (TypeError, KeyError):\n",
    "            return print('Sana sisältää virheellisiä merkkejä.')"
   ]
  },
  {
   "cell_type": "code",
   "execution_count": 29,
   "metadata": {},
   "outputs": [
    {
     "data": {
      "application/vnd.jupyter.widget-view+json": {
       "model_id": "8f84b7224904401da106ee48da1cc0c2",
       "version_major": 2,
       "version_minor": 0
      },
      "text/plain": [
       "interactive(children=(Text(value='', description='kirjaimet'), Output()), _dom_classes=('widget-interact',))"
      ]
     },
     "metadata": {},
     "output_type": "display_data"
    },
    {
     "data": {
      "application/vnd.jupyter.widget-view+json": {
       "model_id": "d110837b21ab4d77a41d3b0d12a18c1f",
       "version_major": 2,
       "version_minor": 0
      },
      "text/plain": [
       "interactive(children=(Text(value='', description='sana'), Output()), _dom_classes=('widget-interact',))"
      ]
     },
     "metadata": {},
     "output_type": "display_data"
    }
   ],
   "source": [
    "widgets.interact(huijaus, kirjaimet='', );\n",
    "widgets.interact(tarkista, sana='');"
   ]
  }
 ],
 "metadata": {
  "kernelspec": {
   "display_name": "Python 3",
   "language": "python",
   "name": "python3"
  },
  "language_info": {
   "codemirror_mode": {
    "name": "ipython",
    "version": 3
   },
   "file_extension": ".py",
   "mimetype": "text/x-python",
   "name": "python",
   "nbconvert_exporter": "python",
   "pygments_lexer": "ipython3",
   "version": "3.7.1"
  }
 },
 "nbformat": 4,
 "nbformat_minor": 2
}
